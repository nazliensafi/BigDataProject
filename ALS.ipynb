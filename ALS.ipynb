{
 "cells": [
  {
   "cell_type": "code",
   "execution_count": 1,
   "id": "5aabf895",
   "metadata": {},
   "outputs": [],
   "source": [
    "from pyspark.sql import SparkSession, Row\n",
    "from pyspark.ml.evaluation import RegressionEvaluator\n",
    "from pyspark.ml.recommendation import ALS\n",
    "from pyspark.sql.functions import col\n",
    "from pyspark.ml.feature import StringIndexer"
   ]
  },
  {
   "cell_type": "code",
   "execution_count": 9,
   "id": "dc6d5413",
   "metadata": {},
   "outputs": [],
   "source": [
    "def als_recommender(filename, seed):\n",
    "    '''\n",
    "    This function prints the RMSE of recommendations obtained\n",
    "    through ALS collaborative filtering using 'BX-Book-Ratings.csv' dataset.\n",
    "    The training ratio is 80% and the test ratio is 20%. The\n",
    "    random seed is used for both sampling and ALS optimizer initialization.\n",
    "    '''\n",
    "\n",
    "    # Initialize Spark session\n",
    "    spark = SparkSession.builder.appName(\"ALSRecommender\").getOrCreate()\n",
    "\n",
    "    # Load data from a CSV file, considering semicolon delimiter and quotes\n",
    "    data = spark.read.csv(filename, header=True, inferSchema=True, sep=';', quote='\"')\n",
    "\n",
    "    # Select and rename the columns according to the CSV file's format\n",
    "    ratings = data.select(\n",
    "        col('User-ID').cast('int').alias('userId'), \n",
    "        col('ISBN').alias('bookId'), \n",
    "        col('Book-Rating').cast('int').alias('rating')\n",
    "    )\n",
    "\n",
    "    # Transform the ISBN string to an index using StringIndexer\n",
    "    stringIndexer = StringIndexer(inputCol=\"bookId\", outputCol=\"bookIdIndexed\")\n",
    "    model = stringIndexer.fit(ratings)\n",
    "    ratingsIndexed = model.transform(ratings)\n",
    "\n",
    "    # Split data into training and test sets\n",
    "    (training, test) = ratingsIndexed.randomSplit([0.8, 0.2], seed=seed)\n",
    "\n",
    "    # Build the recommendation model using ALS on the training data\n",
    "    als = ALS(maxIter=5, rank=70, regParam=0.01, userCol=\"userId\", \n",
    "              itemCol=\"bookIdIndexed\", ratingCol=\"rating\", coldStartStrategy=\"drop\", \n",
    "              seed=seed)\n",
    "    model = als.fit(training)\n",
    "\n",
    "    # Make predictions on the test data\n",
    "    predictions = model.transform(test)\n",
    "\n",
    "    # Evaluate the model by computing the RMSE on the test data\n",
    "    evaluator = RegressionEvaluator(metricName=\"rmse\", labelCol=\"rating\", \n",
    "                                    predictionCol=\"prediction\")\n",
    "    rmse = evaluator.evaluate(predictions)\n",
    "    print(\"Root-mean-square error = \" + str(rmse))\n",
    "\n",
    "    # Stop the Spark session\n",
    "    spark.stop()\n",
    "\n",
    "    return rmse\n",
    "\n"
   ]
  },
  {
   "cell_type": "code",
   "execution_count": 10,
   "id": "37d41743",
   "metadata": {},
   "outputs": [
    {
     "name": "stderr",
     "output_type": "stream",
     "text": [
      "24/03/21 16:00:51 WARN DAGScheduler: Broadcasting large task binary with size 10.1 MiB\n",
      "24/03/21 16:00:53 WARN DAGScheduler: Broadcasting large task binary with size 10.1 MiB\n",
      "24/03/21 16:00:57 WARN DAGScheduler: Broadcasting large task binary with size 10.1 MiB\n",
      "24/03/21 16:01:00 WARN DAGScheduler: Broadcasting large task binary with size 10.1 MiB\n",
      "24/03/21 16:01:03 WARN DAGScheduler: Broadcasting large task binary with size 10.1 MiB\n",
      "24/03/21 16:01:05 WARN DAGScheduler: Broadcasting large task binary with size 10.1 MiB\n",
      "24/03/21 16:01:09 WARN DAGScheduler: Broadcasting large task binary with size 10.1 MiB\n",
      "24/03/21 16:01:09 WARN InstanceBuilder: Failed to load implementation from:dev.ludovic.netlib.blas.JNIBLAS\n",
      "24/03/21 16:01:12 WARN DAGScheduler: Broadcasting large task binary with size 10.1 MiB\n",
      "24/03/21 16:01:13 WARN InstanceBuilder: Failed to load implementation from:dev.ludovic.netlib.lapack.JNILAPACK\n",
      "24/03/21 16:01:28 WARN DAGScheduler: Broadcasting large task binary with size 10.1 MiB\n",
      "24/03/21 16:01:35 WARN DAGScheduler: Broadcasting large task binary with size 10.2 MiB\n",
      "24/03/21 16:01:50 WARN DAGScheduler: Broadcasting large task binary with size 10.2 MiB\n",
      "24/03/21 16:01:58 WARN DAGScheduler: Broadcasting large task binary with size 10.2 MiB\n",
      "24/03/21 16:02:13 WARN DAGScheduler: Broadcasting large task binary with size 10.2 MiB\n",
      "24/03/21 16:02:20 WARN DAGScheduler: Broadcasting large task binary with size 10.2 MiB\n",
      "24/03/21 16:02:35 WARN DAGScheduler: Broadcasting large task binary with size 10.2 MiB\n",
      "24/03/21 16:02:42 WARN DAGScheduler: Broadcasting large task binary with size 10.2 MiB\n",
      "24/03/21 16:02:57 WARN DAGScheduler: Broadcasting large task binary with size 10.2 MiB\n",
      "24/03/21 16:03:04 WARN DAGScheduler: Broadcasting large task binary with size 10.2 MiB\n",
      "24/03/21 16:03:19 WARN DAGScheduler: Broadcasting large task binary with size 10.1 MiB\n",
      "24/03/21 16:03:20 WARN DAGScheduler: Broadcasting large task binary with size 10.2 MiB\n",
      "24/03/21 16:03:21 WARN DAGScheduler: Broadcasting large task binary with size 10.2 MiB\n",
      "24/03/21 16:03:31 WARN DAGScheduler: Broadcasting large task binary with size 10.2 MiB\n",
      "24/03/21 16:03:34 WARN DAGScheduler: Broadcasting large task binary with size 10.2 MiB\n",
      "                                                                                \r"
     ]
    },
    {
     "name": "stdout",
     "output_type": "stream",
     "text": [
      "Root-mean-square error = 4.5155765942672295\n"
     ]
    }
   ],
   "source": [
    "filename = 'Book reviews/BX-Book-Ratings.csv'\n",
    "seed = 12345\n",
    "rmse = als_recommender(filename, seed)"
   ]
  },
  {
   "cell_type": "code",
   "execution_count": null,
   "id": "da8323ce",
   "metadata": {},
   "outputs": [],
   "source": []
  }
 ],
 "metadata": {
  "kernelspec": {
   "display_name": "Python 3 (ipykernel)",
   "language": "python",
   "name": "python3"
  },
  "language_info": {
   "codemirror_mode": {
    "name": "ipython",
    "version": 3
   },
   "file_extension": ".py",
   "mimetype": "text/x-python",
   "name": "python",
   "nbconvert_exporter": "python",
   "pygments_lexer": "ipython3",
   "version": "3.9.18"
  }
 },
 "nbformat": 4,
 "nbformat_minor": 5
}
