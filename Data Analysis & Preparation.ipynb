{
 "cells": [
  {
   "cell_type": "markdown",
   "id": "6394ae88",
   "metadata": {},
   "source": [
    "## Data Analysis and Preparation for CF Book Recommender System "
   ]
  },
  {
   "cell_type": "markdown",
   "id": "b71a5b23",
   "metadata": {},
   "source": [
    "### About the dataset\n",
    "- Contains 278,858 users (anonymized but with demographic information) providing 1,149,780 ratings (explicit / implicit) about 271,379 books.\n",
    "- Oraganized into three CSV files, BX-Book-Ratings.csv, BX-Users.csv, BX_Books.csv\n",
    "- Downloadable at https://www.kaggle.com/datasets/ruchi798/bookcrossing-dataset?resource=download-directory"
   ]
  },
  {
   "cell_type": "code",
   "execution_count": 65,
   "id": "ab311e77",
   "metadata": {},
   "outputs": [],
   "source": [
    "import numpy as np\n",
    "import pandas as pd\n",
    "import matplotlib.pyplot as plt\n",
    "import seaborn as sns\n",
    "from scipy.sparse import csr_matrix"
   ]
  },
  {
   "cell_type": "code",
   "execution_count": 22,
   "id": "3c996c6d",
   "metadata": {},
   "outputs": [
    {
     "data": {
      "text/html": [
       "<div>\n",
       "<style scoped>\n",
       "    .dataframe tbody tr th:only-of-type {\n",
       "        vertical-align: middle;\n",
       "    }\n",
       "\n",
       "    .dataframe tbody tr th {\n",
       "        vertical-align: top;\n",
       "    }\n",
       "\n",
       "    .dataframe thead th {\n",
       "        text-align: right;\n",
       "    }\n",
       "</style>\n",
       "<table border=\"1\" class=\"dataframe\">\n",
       "  <thead>\n",
       "    <tr style=\"text-align: right;\">\n",
       "      <th></th>\n",
       "      <th>User-ID</th>\n",
       "      <th>ISBN</th>\n",
       "      <th>Book-Rating</th>\n",
       "    </tr>\n",
       "  </thead>\n",
       "  <tbody>\n",
       "    <tr>\n",
       "      <th>0</th>\n",
       "      <td>276725</td>\n",
       "      <td>034545104X</td>\n",
       "      <td>0</td>\n",
       "    </tr>\n",
       "    <tr>\n",
       "      <th>1</th>\n",
       "      <td>276726</td>\n",
       "      <td>0155061224</td>\n",
       "      <td>5</td>\n",
       "    </tr>\n",
       "    <tr>\n",
       "      <th>2</th>\n",
       "      <td>276727</td>\n",
       "      <td>0446520802</td>\n",
       "      <td>0</td>\n",
       "    </tr>\n",
       "    <tr>\n",
       "      <th>3</th>\n",
       "      <td>276729</td>\n",
       "      <td>052165615X</td>\n",
       "      <td>3</td>\n",
       "    </tr>\n",
       "    <tr>\n",
       "      <th>4</th>\n",
       "      <td>276729</td>\n",
       "      <td>0521795028</td>\n",
       "      <td>6</td>\n",
       "    </tr>\n",
       "  </tbody>\n",
       "</table>\n",
       "</div>"
      ],
      "text/plain": [
       "   User-ID        ISBN  Book-Rating\n",
       "0   276725  034545104X            0\n",
       "1   276726  0155061224            5\n",
       "2   276727  0446520802            0\n",
       "3   276729  052165615X            3\n",
       "4   276729  0521795028            6"
      ]
     },
     "execution_count": 22,
     "metadata": {},
     "output_type": "execute_result"
    }
   ],
   "source": [
    "# create file paths for each CSV file\n",
    "file_path_Ratings = 'Book reviews/BX-Book-Ratings.csv'\n",
    "\n",
    "# Load the CSV file into  DataFrames and handle errors\n",
    "df_Ratings = pd.read_csv(file_path_Ratings, encoding='windows-1252', sep=';', on_bad_lines=\"skip\")\n",
    "\n",
    "# Display the first 5 rows of the DataFrames\n",
    "df_Ratings.head()\n"
   ]
  },
  {
   "cell_type": "code",
   "execution_count": 23,
   "id": "dca6ec39",
   "metadata": {},
   "outputs": [
    {
     "data": {
      "text/html": [
       "<div>\n",
       "<style scoped>\n",
       "    .dataframe tbody tr th:only-of-type {\n",
       "        vertical-align: middle;\n",
       "    }\n",
       "\n",
       "    .dataframe tbody tr th {\n",
       "        vertical-align: top;\n",
       "    }\n",
       "\n",
       "    .dataframe thead th {\n",
       "        text-align: right;\n",
       "    }\n",
       "</style>\n",
       "<table border=\"1\" class=\"dataframe\">\n",
       "  <thead>\n",
       "    <tr style=\"text-align: right;\">\n",
       "      <th></th>\n",
       "      <th>ISBN</th>\n",
       "      <th>Book-Title</th>\n",
       "      <th>Book-Author</th>\n",
       "      <th>Year-Of-Publication</th>\n",
       "      <th>Publisher</th>\n",
       "      <th>Image-URL-S</th>\n",
       "      <th>Image-URL-M</th>\n",
       "      <th>Image-URL-L</th>\n",
       "    </tr>\n",
       "  </thead>\n",
       "  <tbody>\n",
       "    <tr>\n",
       "      <th>0</th>\n",
       "      <td>0195153448</td>\n",
       "      <td>Classical Mythology</td>\n",
       "      <td>Mark P. O. Morford</td>\n",
       "      <td>2002</td>\n",
       "      <td>Oxford University Press</td>\n",
       "      <td>http://images.amazon.com/images/P/0195153448.0...</td>\n",
       "      <td>http://images.amazon.com/images/P/0195153448.0...</td>\n",
       "      <td>http://images.amazon.com/images/P/0195153448.0...</td>\n",
       "    </tr>\n",
       "    <tr>\n",
       "      <th>1</th>\n",
       "      <td>0002005018</td>\n",
       "      <td>Clara Callan</td>\n",
       "      <td>Richard Bruce Wright</td>\n",
       "      <td>2001</td>\n",
       "      <td>HarperFlamingo Canada</td>\n",
       "      <td>http://images.amazon.com/images/P/0002005018.0...</td>\n",
       "      <td>http://images.amazon.com/images/P/0002005018.0...</td>\n",
       "      <td>http://images.amazon.com/images/P/0002005018.0...</td>\n",
       "    </tr>\n",
       "    <tr>\n",
       "      <th>2</th>\n",
       "      <td>0060973129</td>\n",
       "      <td>Decision in Normandy</td>\n",
       "      <td>Carlo D'Este</td>\n",
       "      <td>1991</td>\n",
       "      <td>HarperPerennial</td>\n",
       "      <td>http://images.amazon.com/images/P/0060973129.0...</td>\n",
       "      <td>http://images.amazon.com/images/P/0060973129.0...</td>\n",
       "      <td>http://images.amazon.com/images/P/0060973129.0...</td>\n",
       "    </tr>\n",
       "    <tr>\n",
       "      <th>3</th>\n",
       "      <td>0374157065</td>\n",
       "      <td>Flu: The Story of the Great Influenza Pandemic...</td>\n",
       "      <td>Gina Bari Kolata</td>\n",
       "      <td>1999</td>\n",
       "      <td>Farrar Straus Giroux</td>\n",
       "      <td>http://images.amazon.com/images/P/0374157065.0...</td>\n",
       "      <td>http://images.amazon.com/images/P/0374157065.0...</td>\n",
       "      <td>http://images.amazon.com/images/P/0374157065.0...</td>\n",
       "    </tr>\n",
       "    <tr>\n",
       "      <th>4</th>\n",
       "      <td>0393045218</td>\n",
       "      <td>The Mummies of Urumchi</td>\n",
       "      <td>E. J. W. Barber</td>\n",
       "      <td>1999</td>\n",
       "      <td>W. W. Norton &amp; Company</td>\n",
       "      <td>http://images.amazon.com/images/P/0393045218.0...</td>\n",
       "      <td>http://images.amazon.com/images/P/0393045218.0...</td>\n",
       "      <td>http://images.amazon.com/images/P/0393045218.0...</td>\n",
       "    </tr>\n",
       "  </tbody>\n",
       "</table>\n",
       "</div>"
      ],
      "text/plain": [
       "         ISBN                                         Book-Title  \\\n",
       "0  0195153448                                Classical Mythology   \n",
       "1  0002005018                                       Clara Callan   \n",
       "2  0060973129                               Decision in Normandy   \n",
       "3  0374157065  Flu: The Story of the Great Influenza Pandemic...   \n",
       "4  0393045218                             The Mummies of Urumchi   \n",
       "\n",
       "            Book-Author  Year-Of-Publication                Publisher  \\\n",
       "0    Mark P. O. Morford                 2002  Oxford University Press   \n",
       "1  Richard Bruce Wright                 2001    HarperFlamingo Canada   \n",
       "2          Carlo D'Este                 1991          HarperPerennial   \n",
       "3      Gina Bari Kolata                 1999     Farrar Straus Giroux   \n",
       "4       E. J. W. Barber                 1999   W. W. Norton & Company   \n",
       "\n",
       "                                         Image-URL-S  \\\n",
       "0  http://images.amazon.com/images/P/0195153448.0...   \n",
       "1  http://images.amazon.com/images/P/0002005018.0...   \n",
       "2  http://images.amazon.com/images/P/0060973129.0...   \n",
       "3  http://images.amazon.com/images/P/0374157065.0...   \n",
       "4  http://images.amazon.com/images/P/0393045218.0...   \n",
       "\n",
       "                                         Image-URL-M  \\\n",
       "0  http://images.amazon.com/images/P/0195153448.0...   \n",
       "1  http://images.amazon.com/images/P/0002005018.0...   \n",
       "2  http://images.amazon.com/images/P/0060973129.0...   \n",
       "3  http://images.amazon.com/images/P/0374157065.0...   \n",
       "4  http://images.amazon.com/images/P/0393045218.0...   \n",
       "\n",
       "                                         Image-URL-L  \n",
       "0  http://images.amazon.com/images/P/0195153448.0...  \n",
       "1  http://images.amazon.com/images/P/0002005018.0...  \n",
       "2  http://images.amazon.com/images/P/0060973129.0...  \n",
       "3  http://images.amazon.com/images/P/0374157065.0...  \n",
       "4  http://images.amazon.com/images/P/0393045218.0...  "
      ]
     },
     "execution_count": 23,
     "metadata": {},
     "output_type": "execute_result"
    }
   ],
   "source": [
    "file_path_Books = 'Book reviews/BX-Books.csv'\n",
    "df_Books = pd.read_csv(file_path_Books, encoding='windows-1252',sep=';', on_bad_lines=\"skip\")\n",
    "df_Books.head()"
   ]
  },
  {
   "cell_type": "code",
   "execution_count": 24,
   "id": "93e991e3",
   "metadata": {},
   "outputs": [
    {
     "data": {
      "text/html": [
       "<div>\n",
       "<style scoped>\n",
       "    .dataframe tbody tr th:only-of-type {\n",
       "        vertical-align: middle;\n",
       "    }\n",
       "\n",
       "    .dataframe tbody tr th {\n",
       "        vertical-align: top;\n",
       "    }\n",
       "\n",
       "    .dataframe thead th {\n",
       "        text-align: right;\n",
       "    }\n",
       "</style>\n",
       "<table border=\"1\" class=\"dataframe\">\n",
       "  <thead>\n",
       "    <tr style=\"text-align: right;\">\n",
       "      <th></th>\n",
       "      <th>User-ID</th>\n",
       "      <th>Location</th>\n",
       "      <th>Age</th>\n",
       "    </tr>\n",
       "  </thead>\n",
       "  <tbody>\n",
       "    <tr>\n",
       "      <th>0</th>\n",
       "      <td>1</td>\n",
       "      <td>nyc, new york, usa</td>\n",
       "      <td>NaN</td>\n",
       "    </tr>\n",
       "    <tr>\n",
       "      <th>1</th>\n",
       "      <td>2</td>\n",
       "      <td>stockton, california, usa</td>\n",
       "      <td>18.0</td>\n",
       "    </tr>\n",
       "    <tr>\n",
       "      <th>2</th>\n",
       "      <td>3</td>\n",
       "      <td>moscow, yukon territory, russia</td>\n",
       "      <td>NaN</td>\n",
       "    </tr>\n",
       "    <tr>\n",
       "      <th>3</th>\n",
       "      <td>4</td>\n",
       "      <td>porto, v.n.gaia, portugal</td>\n",
       "      <td>17.0</td>\n",
       "    </tr>\n",
       "    <tr>\n",
       "      <th>4</th>\n",
       "      <td>5</td>\n",
       "      <td>farnborough, hants, united kingdom</td>\n",
       "      <td>NaN</td>\n",
       "    </tr>\n",
       "  </tbody>\n",
       "</table>\n",
       "</div>"
      ],
      "text/plain": [
       "   User-ID                            Location   Age\n",
       "0        1                  nyc, new york, usa   NaN\n",
       "1        2           stockton, california, usa  18.0\n",
       "2        3     moscow, yukon territory, russia   NaN\n",
       "3        4           porto, v.n.gaia, portugal  17.0\n",
       "4        5  farnborough, hants, united kingdom   NaN"
      ]
     },
     "execution_count": 24,
     "metadata": {},
     "output_type": "execute_result"
    }
   ],
   "source": [
    "file_path_Users = 'Book reviews/BX-Users.csv'\n",
    "df_Users = pd.read_csv(file_path_Users,  encoding='windows-1252',sep=';', on_bad_lines=\"skip\")\n",
    "df_Users.head()\n"
   ]
  },
  {
   "cell_type": "markdown",
   "id": "26231b98",
   "metadata": {},
   "source": [
    "### Some Data Analysis:"
   ]
  },
  {
   "cell_type": "code",
   "execution_count": 57,
   "id": "e68a63b3",
   "metadata": {},
   "outputs": [
    {
     "name": "stdout",
     "output_type": "stream",
     "text": [
      "Number of ratings: 433671\n",
      "Number of unique books: 340556\n",
      "Number of unique users: 105283\n",
      "Average number of ratings per user: 4.12\n",
      "Average number of ratings per book: 1.27\n"
     ]
    }
   ],
   "source": [
    "#ratings_count = len(df_Ratings)\n",
    "\n",
    "\n",
    "# counting non-zero ratings\n",
    "df_Ratings_no_zeros = df_Ratings.copy()\n",
    "# Replace 0 values with NaN in the 'Book-Rating' column\n",
    "df_Ratings_no_zeros['Book-Rating'] = df_Ratings_no_zeros['Book-Rating'].replace(0, np.nan)\n",
    "# Drop rows with NaN values (which were 0 before)\n",
    "df_Ratings_no_zeros = df_Ratings_no_zeros.dropna(subset=['Book-Rating'])\n",
    "\n",
    "ratings_count = len(df_Ratings_no_zeros)\n",
    "book_count = df_Ratings['ISBN'].nunique()\n",
    "user_count = df_Ratings['User-ID'].nunique()\n",
    "\n",
    "print(f\"Number of ratings: {ratings_count}\")\n",
    "print(f\"Number of unique books: {book_count}\")\n",
    "print(f\"Number of unique users: {user_count}\")\n",
    "print(f\"Average number of ratings per user: {round(ratings_count/user_count, 2)}\")\n",
    "print(f\"Average number of ratings per book: {round(ratings_count/book_count, 2)}\")"
   ]
  },
  {
   "cell_type": "code",
   "execution_count": 64,
   "id": "8f88dd8a",
   "metadata": {},
   "outputs": [
    {
     "name": "stdout",
     "output_type": "stream",
     "text": [
      "Mean global rating: 7.6\n",
      "Mean rating per user: 7.46\n",
      "Mean rating per book: 7.49\n"
     ]
    }
   ],
   "source": [
    "# calculate mean ratings\n",
    "print(f\"Mean global rating: {round(df_Ratings_no_zeros['Book-Rating'].mean(),2)}\")\n",
    "\n",
    "user_mean_ratings = df_Ratings_no_zeros.groupby('User-ID')['Book-Rating'].mean()\n",
    "book_mean_ratings = df_Ratings_no_zeros.groupby('ISBN')['Book-Rating'].mean()\n",
    "\n",
    "print(f\"Mean rating per user: {round(mean_ratings.mean(),2)}\")\n",
    "print(f\"Mean rating per book: {round(book_mean_ratings.mean(),2)}\")"
   ]
  },
  {
   "cell_type": "code",
   "execution_count": 59,
   "id": "fe9abba5",
   "metadata": {
    "scrolled": true
   },
   "outputs": [
    {
     "data": {
      "image/png": "[encoded data removed]",
      "text/plain": [
       "<Figure size 640x480 with 1 Axes>"
      ]
     },
     "metadata": {},
     "output_type": "display_data"
    }
   ],
   "source": [
    "# plotting Book Ratings Distribution\n",
    "sns.countplot(x=\"Book-Rating\", data=df_Ratings, palette=\"rocket\")\n",
    "plt.title(\"Book Ratings Distribution\", fontsize=14)\n",
    "plt.show()\n"
   ]
  },
  {
   "cell_type": "code",
   "execution_count": 60,
   "id": "63c93ba1",
   "metadata": {},
   "outputs": [
    {
     "data": {
      "image/png": "[encoded data removed]",
      "text/plain": [
       "<Figure size 640x480 with 1 Axes>"
      ]
     },
     "metadata": {},
     "output_type": "display_data"
    }
   ],
   "source": [
    "# plotting Non-zero Book Ratings Distribution\n",
    "sns.countplot(x=\"Book-Rating\", data=df_Ratings_no_zeros, palette=\"rocket\")\n",
    "plt.title(\"Non-zero book Book Ratings Distribution\", fontsize=14)\n",
    "plt.show()"
   ]
  },
  {
   "cell_type": "code",
   "execution_count": null,
   "id": "13054284",
   "metadata": {},
   "outputs": [],
   "source": []
  },
  {
   "cell_type": "code",
   "execution_count": null,
   "id": "a469004a",
   "metadata": {},
   "outputs": [],
   "source": []
  },
  {
   "cell_type": "code",
   "execution_count": null,
   "id": "f96d1e6d",
   "metadata": {},
   "outputs": [],
   "source": []
  },
  {
   "cell_type": "code",
   "execution_count": 77,
   "id": "fba5d2ab",
   "metadata": {},
   "outputs": [],
   "source": [
    "def utility_matrix(df):\n",
    "    \"\"\"\n",
    "    creates a sparse utility matrix from BX-Book-Ratings dataframe\n",
    "\n",
    "    Args:\n",
    "        df: pandas ratings dataframe containing 3 columns (User-ID, ISBN, Book-Rating)\n",
    "\n",
    "    Returns:\n",
    "        UMX: sparse matrix\n",
    "        book_to_index: book to index mapper \n",
    "        user_to_index: user to index mapper \n",
    "        index_to_book: index to book mapper \n",
    "        index_to_user: index to user mapper\n",
    "    \"\"\"\n",
    "    I = df['ISBN'].nunique() # count unique number of books\n",
    "    J = df['User-ID'].nunique() # count unique number of users\n",
    "\n",
    "    # MAPPERS\n",
    "    # map each unique ISBN to a unique index\n",
    "    book_to_index = dict(zip(np.unique(df[\"ISBN\"]), list(range(I))))\n",
    "\n",
    "    # map each unique User-ID to a unique index\n",
    "    user_to_index = dict(zip(np.unique(df[\"User-ID\"]), list(range(J))))\n",
    "\n",
    "    \n",
    "    # INVERSE MAPPERS\n",
    "    # map each book index back to its ISBN\n",
    "    index_to_book = dict(zip(list(range(I)), np.unique(df[\"ISBN\"])))\n",
    "    \n",
    "    # map each user index back to its ID\n",
    "    index_to_user = dict(zip(list(range(J)), np.unique(df[\"User-ID\"])))\n",
    "\n",
    "    # prepare the data to be placed in the sparse matrix\n",
    "    book_index = [book_to_index[i] for i in df['ISBN']]\n",
    "    user_index = [user_to_index[i] for i in df['User-ID']]\n",
    "\n",
    "    # buil the sparse utility matrix\n",
    "    UMX = csr_matrix((df[\"Book-Rating\"], (book_index,user_index)), shape=(I,J))\n",
    "\n",
    "    return UMX, book_to_index, user_to_index, index_to_book, index_to_user\n"
   ]
  },
  {
   "cell_type": "code",
   "execution_count": 78,
   "id": "62156752",
   "metadata": {},
   "outputs": [],
   "source": [
    "UMX, book_to_index, user_to_index, index_to_book, index_to_user = utility_matrix(df_Ratings)"
   ]
  },
  {
   "cell_type": "code",
   "execution_count": 79,
   "id": "ebeba0f4",
   "metadata": {},
   "outputs": [
    {
     "name": "stdout",
     "output_type": "stream",
     "text": [
      "Sparsity: 0.0032%\n"
     ]
    }
   ],
   "source": [
    "# sparsity of the matrix = # of non-zero elements / matrix size\n",
    "print(f\"Sparsity: {round(UMX.nnz / (UMX.shape[0]*UMX.shape[1]) *100,4)}%\")"
   ]
  },
  {
   "cell_type": "code",
   "execution_count": null,
   "id": "cbbff1a6",
   "metadata": {},
   "outputs": [],
   "source": []
  },
  {
   "cell_type": "code",
   "execution_count": null,
   "id": "a638daad",
   "metadata": {},
   "outputs": [],
   "source": []
  },
  {
   "cell_type": "code",
   "execution_count": null,
   "id": "3e2a8511",
   "metadata": {},
   "outputs": [],
   "source": []
  },
  {
   "cell_type": "markdown",
   "id": "fdc3977c",
   "metadata": {},
   "source": [
    "#### References\n",
    "Chong, D. (2021, September 24). Why we use sparse matrices for Recommender Systems. Medium. https://towardsdatascience.com/why-we-use-sparse-matrices-for-recommender-systems-2ccc9ab698a4 "
   ]
  },
  {
   "cell_type": "code",
   "execution_count": null,
   "id": "97e63c23",
   "metadata": {},
   "outputs": [],
   "source": []
  }
 ],
 "metadata": {
  "kernelspec": {
   "display_name": "Python 3 (ipykernel)",
   "language": "python",
   "name": "python3"
  },
  "language_info": {
   "codemirror_mode": {
    "name": "ipython",
    "version": 3
   },
   "file_extension": ".py",
   "mimetype": "text/x-python",
   "name": "python",
   "nbconvert_exporter": "python",
   "pygments_lexer": "ipython3",
   "version": "3.9.18"
  }
 },
 "nbformat": 4,
 "nbformat_minor": 5
}
