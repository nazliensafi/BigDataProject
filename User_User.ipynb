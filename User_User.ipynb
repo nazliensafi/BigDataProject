{
 "cells": [
  {
   "cell_type": "markdown",
   "metadata": {},
   "source": [
    "# User-User collaborative filtering"
   ]
  },
  {
   "cell_type": "code",
   "execution_count": 5,
   "metadata": {},
   "outputs": [],
   "source": [
    "from pyspark.sql import SparkSession, Row\n",
    "from pyspark.ml.evaluation import RegressionEvaluator\n",
    "from pyspark.ml.recommendation import ALS\n",
    "from pyspark.sql.functions import col\n",
    "from pyspark.ml.feature import StringIndexer\n",
    "from pyspark.ml.tuning import ParamGridBuilder\n",
    "from pyspark.ml.tuning import CrossValidator"
   ]
  },
  {
   "cell_type": "markdown",
   "metadata": {},
   "source": [
    "### data preparation"
   ]
  },
  {
   "cell_type": "code",
   "execution_count": 6,
   "metadata": {},
   "outputs": [
    {
     "name": "stderr",
     "output_type": "stream",
     "text": [
      "24/03/26 22:18:32 WARN Utils: Your hostname, Anhs-MacBook-Pro.local resolves to a loopback address: 127.0.0.1; using 10.0.0.215 instead (on interface en0)\n",
      "24/03/26 22:18:32 WARN Utils: Set SPARK_LOCAL_IP if you need to bind to another address\n",
      "Setting default log level to \"WARN\".\n",
      "To adjust logging level use sc.setLogLevel(newLevel). For SparkR, use setLogLevel(newLevel).\n",
      "24/03/26 22:18:33 WARN NativeCodeLoader: Unable to load native-hadoop library for your platform... using builtin-java classes where applicable\n",
      "                                                                                \r"
     ]
    },
    {
     "name": "stderr",
     "output_type": "stream",
     "text": [
      "24/03/26 22:18:46 WARN GarbageCollectionMetrics: To enable non-built-in garbage collector(s) List(G1 Concurrent GC), users should configure it(them) to spark.eventLog.gcMetrics.youngGenerationGarbageCollectors or spark.eventLog.gcMetrics.oldGenerationGarbageCollectors\n"
     ]
    }
   ],
   "source": [
    "#NOT USED\n",
    "\n",
    "# Initialize Spark session\n",
    "spark = SparkSession.builder.appName(\"ALSRecommender\").getOrCreate()\n",
    "\n",
    "# Load data from a CSV file, considering semicolon delimiter and quotes\n",
    "data = spark.read.csv(\"Book reviews/BX-Book-Ratings.csv\", header=True, inferSchema=True, sep=';', quote='\"')\n",
    "\n",
    "# Select and rename the columns according to the CSV file's format\n",
    "ratings = data.select(\n",
    "    col('User-ID').cast('int').alias('userId'), \n",
    "    col('ISBN').alias('bookId'), \n",
    "    col('Book-Rating').cast('int').alias('rating')\n",
    ")\n",
    "\n",
    "\n",
    "# Transform the ISBN string to an index using StringIndexer\n",
    "stringIndexer = StringIndexer(inputCol=\"bookId\", outputCol=\"bookIdIndexed\")\n",
    "model = stringIndexer.fit(ratings)\n",
    "ratingsIndexed = model.transform(ratings)\n",
    "\n",
    "# filter out users with less than 3 ratings\n",
    "userRatingTreshold = 3\n",
    "ratingsFiltered = ratingsIndexed.groupBy(\"userId\").count().filter(col(\"count\") > userRatingTreshold)\n",
    "ratingsFiltered = ratingsFiltered.select(\"userId\")\n",
    "\n",
    "ratingsIndexed = ratingsIndexed.join(ratingsFiltered, \"userId\", \"inner\")\n",
    "\n",
    "#filter top 10% of books\n",
    "bookRatingTreshold = 0.9\n",
    "ratingsFiltered = ratingsIndexed.groupBy(\"bookIdIndexed\").count().filter(col(\"count\") > bookRatingTreshold)\n",
    "ratingsFiltered = ratingsFiltered.select(\"bookIdIndexed\")\n",
    "\n",
    "ratingsIndexed = ratingsIndexed.join(ratingsFiltered, \"bookIdIndexed\", \"inner\")\n",
    "\n",
    "\n",
    "# Split data into training and test sets\n",
    "seed = 12345\n",
    "(training, test) = ratingsIndexed.randomSplit([0.8, 0.2], seed=seed)"
   ]
  },
  {
   "cell_type": "code",
   "execution_count": 3,
   "metadata": {},
   "outputs": [],
   "source": [
    "import pandas as pd\n",
    "import numpy as np\n",
    "from scipy.sparse import csr_matrix\n",
    "from sklearn.metrics.pairwise import cosine_similarity\n",
    "import dask.dataframe as dd\n",
    "\n",
    "\n",
    "ddf = dd.read_csv('Book reviews/BX-Book-Ratings.csv', sep=';', encoding='latin-1',dtype={'User-ID': 'int32', 'Book-Rating': 'int8', 'ISBN': 'category'})\n",
    "\n",
    "rating_summary = ddf.groupby('ISBN')['Book-Rating'].mean().compute()\n",
    "\n",
    "df = ddf.compute()\n",
    "\n",
    "df = df.head(100000)\n",
    "\n",
    "#df = df[df['Book-Rating'] > 0] \n",
    "\n",
    "# filter out users with less than 3 ratings\n",
    "user_rating_treshold = 3\n",
    "user_rating_count = df['User-ID'].value_counts()\n",
    "active_users = user_rating_count[user_rating_count >= user_rating_treshold].index\n",
    "df = df[df['User-ID'].isin(active_users)]\n",
    "\n",
    "# filter top 10% of books\n",
    "book_rating_treshold = 0.9\n",
    "book_rating_count = df['ISBN'].value_counts()\n",
    "popular_books = book_rating_count[book_rating_count >= book_rating_treshold].index\n",
    "df = df[df['ISBN'].isin(popular_books)]"
   ]
  },
  {
   "cell_type": "markdown",
   "metadata": {},
   "source": [
    "### Modeling"
   ]
  },
  {
   "cell_type": "code",
   "execution_count": 4,
   "metadata": {
    "scrolled": false
   },
   "outputs": [
    {
     "name": "stdout",
     "output_type": "stream",
     "text": [
      "4.942315987334405\n"
     ]
    }
   ],
   "source": [
    "\n",
    "# create user-item interaction matrix\n",
    "ratings_matrix = df.pivot(index='User-ID', columns='ISBN', values='Book-Rating').fillna(0)\n",
    "\n",
    "\n",
    "# calculate the cosine similarity of the users\n",
    "cosine_sim = cosine_similarity(ratings_matrix, ratings_matrix)\n",
    "\n",
    "# convert the similarity matrix into a DataFrame\n",
    "cosine_sim_df = pd.DataFrame(cosine_sim, index=ratings_matrix.index, columns=ratings_matrix.index)\n",
    "\n",
    "# create a df with the 5 most similar users for each user\n",
    "top_5_similar_users = {}\n",
    "for user in cosine_sim_df.columns:\n",
    "    top_5_similar_users[user] = cosine_sim_df[user].sort_values(ascending=False)[1:6]\n",
    "    \n",
    "top_5_similar_users_df = pd.DataFrame(top_5_similar_users)\n",
    "\n",
    "\n",
    "# predict the rating that a user would give to a book using mean of top 5 similar users\n",
    "def predict_rating(user_id, book_id):\n",
    "    top_5_similar = top_5_similar_users_df[user_id]\n",
    "    \n",
    "    # get the ratings of the top 5 similar users for the book\n",
    "    ratings = []\n",
    "    for user in top_5_similar.index:\n",
    "        rating = ratings_matrix.loc[user, book_id]\n",
    "        ratings.append(rating)\n",
    "        \n",
    "    # calculate the mean rating\n",
    "    prediction = np.mean(ratings)\n",
    "    \n",
    "    return prediction\n",
    "\n",
    "\n",
    "# get the mean rating for each row in df and put it in predictions column\n",
    "df['prediction'] = df.apply(lambda x: predict_rating(x['User-ID'], x['ISBN']), axis=1)\n",
    "\n",
    "# calculate the RMSE\n",
    "rmse = np.sqrt(np.mean((df['Book-Rating'] - df['prediction'])**2))\n",
    "print(rmse)"
   ]
  }
 ],
 "metadata": {
  "kernelspec": {
   "display_name": "Python 3 (ipykernel)",
   "language": "python",
   "name": "python3"
  },
  "language_info": {
   "codemirror_mode": {
    "name": "ipython",
    "version": 3
   },
   "file_extension": ".py",
   "mimetype": "text/x-python",
   "name": "python",
   "nbconvert_exporter": "python",
   "pygments_lexer": "ipython3",
   "version": "3.12.1"
  }
 },
 "nbformat": 4,
 "nbformat_minor": 2
}
