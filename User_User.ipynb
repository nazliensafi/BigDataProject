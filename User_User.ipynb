{
 "cells": [
  {
   "cell_type": "markdown",
   "metadata": {},
   "source": [
    "# User-User collaborative filtering"
   ]
  },
  {
   "cell_type": "code",
   "execution_count": 2,
   "metadata": {},
   "outputs": [],
   "source": [
    "from pyspark.sql import SparkSession\n",
    "from pyspark.sql.functions import col\n",
    "from pyspark.ml.evaluation import RegressionEvaluator\n",
    "from pyspark.ml.feature import StringIndexer\n",
    "\n",
    "from sklearn.neighbors import NearestNeighbors\n",
    "from sklearn.metrics.pairwise import cosine_similarity"
   ]
  },
  {
   "cell_type": "markdown",
   "metadata": {},
   "source": [
    "## data preparation"
   ]
  },
  {
   "cell_type": "code",
   "execution_count": 3,
   "metadata": {},
   "outputs": [
    {
     "name": "stderr",
     "output_type": "stream",
     "text": [
      "24/03/24 18:00:15 WARN Utils: Your hostname, Anhs-MacBook-Pro.local resolves to a loopback address: 127.0.0.1; using 10.0.0.215 instead (on interface en0)\n",
      "24/03/24 18:00:15 WARN Utils: Set SPARK_LOCAL_IP if you need to bind to another address\n",
      "Setting default log level to \"WARN\".\n",
      "To adjust logging level use sc.setLogLevel(newLevel). For SparkR, use setLogLevel(newLevel).\n",
      "24/03/24 18:00:15 WARN NativeCodeLoader: Unable to load native-hadoop library for your platform... using builtin-java classes where applicable\n"
     ]
    }
   ],
   "source": [
    "  # Initialize Spark session\n",
    "spark = SparkSession.builder.appName(\"ALSRecommender\").getOrCreate()\n",
    "\n",
    "# Load data from a CSV file, considering semicolon delimiter and quotes\n",
    "data = spark.read.csv(\"Book reviews/BX-Book-Ratings.csv\", header=True, inferSchema=True, sep=';', quote='\"')\n",
    "\n",
    "# Select and rename the columns according to the CSV file's format\n",
    "ratings = data.select(\n",
    "    col('User-ID').cast('int').alias('userId'), \n",
    "    col('ISBN').alias('bookId'), \n",
    "    col('Book-Rating').cast('int').alias('rating')\n",
    ")\n",
    "\n",
    "# Transform the ISBN string to an index using StringIndexer\n",
    "stringIndexer = StringIndexer(inputCol=\"bookId\", outputCol=\"bookIdIndexed\")\n",
    "model = stringIndexer.fit(ratings)\n",
    "ratingsIndexed = model.transform(ratings)\n",
    "\n",
    "# Split data into training and test sets\n",
    "seed = 12345\n",
    "(training, test) = ratingsIndexed.randomSplit([0.8, 0.2], seed=seed)"
   ]
  },
  {
   "cell_type": "markdown",
   "metadata": {},
   "source": [
    "## Modeling"
   ]
  },
  {
   "cell_type": "code",
   "execution_count": 9,
   "metadata": {},
   "outputs": [
    {
     "name": "stdout",
     "output_type": "stream",
     "text": [
      "3.9367810883133427\n"
     ]
    }
   ],
   "source": [
    "import pandas as pd\n",
    "import numpy as np\n",
    "\n",
    "df = pd.read_csv('Book reviews/BX-Book-Ratings.csv', sep=';', encoding='latin-1')\n",
    "\n",
    "df = df.head(10000)\n",
    "\n",
    "# create user-item interaction matrix\n",
    "ratings_matrix = df.pivot(index='User-ID', columns='ISBN', values='Book-Rating')\n",
    "\n",
    "# fill missing values with 0\n",
    "ratings_matrix.fillna(0, inplace=True)\n",
    "\n",
    "# calculate the cosine similarity of the users\n",
    "cosine_sim = cosine_similarity(ratings_matrix, ratings_matrix)\n",
    "\n",
    "# convert the similarity matrix into a DataFrame\n",
    "cosine_sim_df = pd.DataFrame(cosine_sim, index=ratings_matrix.index, columns=ratings_matrix.index)\n",
    "\n",
    "# create a df with the 5 most similar users for each user\n",
    "top_5_similar_users = {}\n",
    "for user in cosine_sim_df.columns:\n",
    "    top_5_similar_users[user] = cosine_sim_df[user].sort_values(ascending=False)[1:6]\n",
    "    \n",
    "top_5_similar_users_df = pd.DataFrame(top_5_similar_users)\n",
    "\n",
    "\n",
    "# predict the rating that a user would give to a book using mean of top 5 similar users\n",
    "def predict_rating(user_id, book_id):\n",
    "    top_5_similar = top_5_similar_users_df[user_id]\n",
    "    \n",
    "    # get the ratings of the top 5 similar users for the book\n",
    "    ratings = []\n",
    "    for user in top_5_similar.index:\n",
    "        rating = ratings_matrix.loc[user, book_id]\n",
    "        ratings.append(rating)\n",
    "        \n",
    "    # calculate the mean rating\n",
    "    prediction = np.mean(ratings)\n",
    "    \n",
    "    return prediction\n",
    "\n",
    "\n",
    "# get the mean rating for each row in df and put it in predictions column\n",
    "df['prediction'] = df.apply(lambda x: predict_rating(x['User-ID'], x['ISBN']), axis=1)\n",
    "\n",
    "# calculate the RMSE\n",
    "rmse = np.sqrt(np.mean((df['Book-Rating'] - df['prediction'])**2))\n",
    "print(rmse)\n",
    "\n"
   ]
  }
 ],
 "metadata": {
  "kernelspec": {
   "display_name": "Python 3",
   "language": "python",
   "name": "python3"
  },
  "language_info": {
   "codemirror_mode": {
    "name": "ipython",
    "version": 3
   },
   "file_extension": ".py",
   "mimetype": "text/x-python",
   "name": "python",
   "nbconvert_exporter": "python",
   "pygments_lexer": "ipython3",
   "version": "3.12.1"
  },
  "orig_nbformat": 4
 },
 "nbformat": 4,
 "nbformat_minor": 2
}
